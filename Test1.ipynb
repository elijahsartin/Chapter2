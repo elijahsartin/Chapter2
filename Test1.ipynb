{
 "cells": [
  {
   "cell_type": "code",
   "execution_count": 3,
   "id": "2baf5712",
   "metadata": {},
   "outputs": [
    {
     "name": "stdout",
     "output_type": "stream",
     "text": [
      "Alpha Delta Gamma\n"
     ]
    }
   ],
   "source": [
    "print(\"Alpha Delta Gamma\")"
   ]
  },
  {
   "cell_type": "markdown",
   "id": "8a28e8dd",
   "metadata": {},
   "source": [
    "# Heading1\n",
    "## Heading2\n",
    "### Heading3"
   ]
  },
  {
   "cell_type": "markdown",
   "id": "0b7c8985",
   "metadata": {},
   "source": [
    "> It's Time for Dodger Baseball"
   ]
  },
  {
   "cell_type": "markdown",
   "id": "a46b7656",
   "metadata": {},
   "source": [
    "* Bullet List\n",
    "1. Numbered List\n",
    "2. With Two Items in It"
   ]
  },
  {
   "cell_type": "markdown",
   "id": "f4625892",
   "metadata": {},
   "source": [
    "**BOLD**\n",
    "*italics*\n",
    "'official statement'\n",
    "<a href=\"https://traffickmedia.com/?\">this link</a>\n",
    "![Dodger Logo](https://m.media-amazon.com/images/I/41BjwT0HeUL.jpg)\n"
   ]
  },
  {
   "cell_type": "code",
   "execution_count": null,
   "id": "2a079938",
   "metadata": {},
   "outputs": [],
   "source": []
  }
 ],
 "metadata": {
  "kernelspec": {
   "display_name": "Python 3",
   "language": "python",
   "name": "python3"
  },
  "language_info": {
   "codemirror_mode": {
    "name": "ipython",
    "version": 3
   },
   "file_extension": ".py",
   "mimetype": "text/x-python",
   "name": "python",
   "nbconvert_exporter": "python",
   "pygments_lexer": "ipython3",
   "version": "3.8.8"
  }
 },
 "nbformat": 4,
 "nbformat_minor": 5
}
